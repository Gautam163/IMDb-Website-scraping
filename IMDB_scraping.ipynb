{
 "cells": [
  {
   "cell_type": "code",
   "execution_count": 1,
   "metadata": {},
   "outputs": [],
   "source": [
    "#importing the libraries\n",
    "import pandas as pd\n",
    "import requests\n",
    "import numpy as np\n",
    "from bs4 import BeautifulSoup\n",
    "from random import randint\n",
    "from time import sleep\n"
   ]
  },
  {
   "cell_type": "code",
   "execution_count": 2,
   "metadata": {},
   "outputs": [],
   "source": [
    "headers = {\"Accept-Language\": \"en-US,en;q=0.5\"}"
   ]
  },
  {
   "cell_type": "code",
   "execution_count": 3,
   "metadata": {},
   "outputs": [],
   "source": [
    "#creating empty lists so that the data can be appended \n",
    "name = []\n",
    "year = []\n",
    "duration = []\n",
    "movie_type = []\n",
    "About = []\n",
    "rating = []\n",
    "votes = []\n",
    "gross = []"
   ]
  },
  {
   "cell_type": "code",
   "execution_count": 4,
   "metadata": {},
   "outputs": [],
   "source": [
    "pages = np.arange(100,600,100)"
   ]
  },
  {
   "cell_type": "code",
   "execution_count": 5,
   "metadata": {},
   "outputs": [],
   "source": [
    "#Iterating over multiple pages\n",
    "for p in pages:\n",
    "    p = requests.get(\"https://www.imdb.com/search/title/?groups=top_1000&sort=user_rating,desc&count=100&start=\"+str(p)+\"&ref_=adv_nxt\")\n",
    "    soup = BeautifulSoup(p.text, 'html.parser')\n",
    "    movie_data = soup.findAll('div', attrs = {'class': 'lister-item mode-advanced'})\n",
    "    sleep(randint(2,8))\n",
    "    for movie in movie_data:  #Iterating over each movie_data to fetch the data  \n",
    "        \n",
    "        movie_name = movie.h3.a.getText()\n",
    "        name.append(movie_name)\n",
    "        \n",
    "        release = movie.h3.find('span', class_ = \"lister-item-year text-muted unbold\").getText()\n",
    "        year.append(release)\n",
    "        \n",
    "        time = movie.p.find(\"span\", class_ = 'runtime').getText()\n",
    "        duration.append(time)\n",
    "        \n",
    "        mov_type = movie.p.find(\"span\", class_ = \"genre\").getText().replace('\\n', '')\n",
    "        movie_type.append(mov_type)\n",
    "        \n",
    "        descrip = movie.find_all('p', class_ = 'text-muted')\n",
    "        tag = descrip[1].text.replace('\\n', '') if len(descrip) >1 else 'None'\n",
    "        About.append(tag)\n",
    "          \n",
    "        rate = movie.find('div', class_ = \"inline-block ratings-imdb-rating\").getText().replace('\\n', '')\n",
    "        rating.append(rate)\n",
    "      \n",
    "        alpha = movie.find_all('span', attrs = {'name': \"nv\"})\n",
    "        vote = alpha[0].getText()\n",
    "        votes.append(vote)\n",
    "        \n",
    "        earning = alpha[1].getText() if len(alpha)>1 else 'None'\n",
    "        gross.append(earning)\n",
    "        "
   ]
  },
  {
   "cell_type": "code",
   "execution_count": null,
   "metadata": {},
   "outputs": [],
   "source": [
    "#Creating a dataframe \n",
    "IMDB_list = pd.DataFrame({\"Movie Name\": name,\n",
    "                          \"Year\" : year,\n",
    "                          \"Duration\": duration,\n",
    "                          \"Movie Type\": movie_type,\n",
    "                          \"About\" : About,\n",
    "                          \"Rating\": rating,\n",
    "                          \"Votes\" : votes,\n",
    "                          \"Gross collections\": gross})\n",
    "\n",
    "IMDB_list.index += 1\n",
    "\n",
    "#Styling the dataframe\n",
    "IMDB_list.style.set_properties(**{'background-color': 'LightGrey',\n",
    "                                  'color': 'black',\n",
    "                                  'border-color': 'black',\n",
    "                                  'border-width': '2px',\n",
    "                                  'border-style': 'solid'})\n",
    "\n"
   ]
  },
  {
   "cell_type": "code",
   "execution_count": 8,
   "metadata": {},
   "outputs": [],
   "source": [
    "#Copying the data to excel file\n",
    "IMDB_list.to_excel(\"List of top IMDb movies.xlsx\")\n"
   ]
  },
  {
   "cell_type": "code",
   "execution_count": null,
   "metadata": {},
   "outputs": [],
   "source": []
  }
 ],
 "metadata": {
  "kernelspec": {
   "display_name": "Python 3",
   "language": "python",
   "name": "python3"
  },
  "language_info": {
   "codemirror_mode": {
    "name": "ipython",
    "version": 3
   },
   "file_extension": ".py",
   "mimetype": "text/x-python",
   "name": "python",
   "nbconvert_exporter": "python",
   "pygments_lexer": "ipython3",
   "version": "3.8.5"
  }
 },
 "nbformat": 4,
 "nbformat_minor": 4
}
